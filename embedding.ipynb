{
 "cells": [
  {
   "cell_type": "code",
   "execution_count": 118,
   "metadata": {},
   "outputs": [
    {
     "name": "stdout",
     "output_type": "stream",
     "text": [
      "Requirement already satisfied: tensorflow in /opt/anaconda3/lib/python3.12/site-packages (2.18.0)\n",
      "Requirement already satisfied: absl-py>=1.0.0 in /opt/anaconda3/lib/python3.12/site-packages (from tensorflow) (2.1.0)\n",
      "Requirement already satisfied: astunparse>=1.6.0 in /opt/anaconda3/lib/python3.12/site-packages (from tensorflow) (1.6.3)\n",
      "Requirement already satisfied: flatbuffers>=24.3.25 in /opt/anaconda3/lib/python3.12/site-packages (from tensorflow) (25.2.10)\n",
      "Requirement already satisfied: gast!=0.5.0,!=0.5.1,!=0.5.2,>=0.2.1 in /opt/anaconda3/lib/python3.12/site-packages (from tensorflow) (0.6.0)\n",
      "Requirement already satisfied: google-pasta>=0.1.1 in /opt/anaconda3/lib/python3.12/site-packages (from tensorflow) (0.2.0)\n",
      "Requirement already satisfied: libclang>=13.0.0 in /opt/anaconda3/lib/python3.12/site-packages (from tensorflow) (18.1.1)\n",
      "Requirement already satisfied: opt-einsum>=2.3.2 in /opt/anaconda3/lib/python3.12/site-packages (from tensorflow) (3.4.0)\n",
      "Requirement already satisfied: packaging in /opt/anaconda3/lib/python3.12/site-packages (from tensorflow) (24.1)\n",
      "Requirement already satisfied: protobuf!=4.21.0,!=4.21.1,!=4.21.2,!=4.21.3,!=4.21.4,!=4.21.5,<6.0.0dev,>=3.20.3 in /opt/anaconda3/lib/python3.12/site-packages (from tensorflow) (4.25.3)\n",
      "Requirement already satisfied: requests<3,>=2.21.0 in /opt/anaconda3/lib/python3.12/site-packages (from tensorflow) (2.32.3)\n",
      "Requirement already satisfied: setuptools in /opt/anaconda3/lib/python3.12/site-packages (from tensorflow) (75.8.0)\n",
      "Requirement already satisfied: six>=1.12.0 in /opt/anaconda3/lib/python3.12/site-packages (from tensorflow) (1.16.0)\n",
      "Requirement already satisfied: termcolor>=1.1.0 in /opt/anaconda3/lib/python3.12/site-packages (from tensorflow) (2.5.0)\n",
      "Requirement already satisfied: typing-extensions>=3.6.6 in /opt/anaconda3/lib/python3.12/site-packages (from tensorflow) (4.11.0)\n",
      "Requirement already satisfied: wrapt>=1.11.0 in /opt/anaconda3/lib/python3.12/site-packages (from tensorflow) (1.14.1)\n",
      "Requirement already satisfied: grpcio<2.0,>=1.24.3 in /opt/anaconda3/lib/python3.12/site-packages (from tensorflow) (1.70.0)\n",
      "Requirement already satisfied: tensorboard<2.19,>=2.18 in /opt/anaconda3/lib/python3.12/site-packages (from tensorflow) (2.18.0)\n",
      "Requirement already satisfied: keras>=3.5.0 in /opt/anaconda3/lib/python3.12/site-packages (from tensorflow) (3.9.0)\n",
      "Requirement already satisfied: numpy<2.1.0,>=1.26.0 in /opt/anaconda3/lib/python3.12/site-packages (from tensorflow) (1.26.4)\n",
      "Requirement already satisfied: h5py>=3.11.0 in /opt/anaconda3/lib/python3.12/site-packages (from tensorflow) (3.11.0)\n",
      "Requirement already satisfied: ml-dtypes<0.5.0,>=0.4.0 in /opt/anaconda3/lib/python3.12/site-packages (from tensorflow) (0.4.1)\n",
      "Requirement already satisfied: wheel<1.0,>=0.23.0 in /opt/anaconda3/lib/python3.12/site-packages (from astunparse>=1.6.0->tensorflow) (0.45.1)\n",
      "Requirement already satisfied: rich in /opt/anaconda3/lib/python3.12/site-packages (from keras>=3.5.0->tensorflow) (13.7.1)\n",
      "Requirement already satisfied: namex in /opt/anaconda3/lib/python3.12/site-packages (from keras>=3.5.0->tensorflow) (0.0.8)\n",
      "Requirement already satisfied: optree in /opt/anaconda3/lib/python3.12/site-packages (from keras>=3.5.0->tensorflow) (0.14.1)\n",
      "Requirement already satisfied: charset-normalizer<4,>=2 in /opt/anaconda3/lib/python3.12/site-packages (from requests<3,>=2.21.0->tensorflow) (3.3.2)\n",
      "Requirement already satisfied: idna<4,>=2.5 in /opt/anaconda3/lib/python3.12/site-packages (from requests<3,>=2.21.0->tensorflow) (3.7)\n",
      "Requirement already satisfied: urllib3<3,>=1.21.1 in /opt/anaconda3/lib/python3.12/site-packages (from requests<3,>=2.21.0->tensorflow) (2.2.3)\n",
      "Requirement already satisfied: certifi>=2017.4.17 in /opt/anaconda3/lib/python3.12/site-packages (from requests<3,>=2.21.0->tensorflow) (2024.12.14)\n",
      "Requirement already satisfied: markdown>=2.6.8 in /opt/anaconda3/lib/python3.12/site-packages (from tensorboard<2.19,>=2.18->tensorflow) (3.4.1)\n",
      "Requirement already satisfied: tensorboard-data-server<0.8.0,>=0.7.0 in /opt/anaconda3/lib/python3.12/site-packages (from tensorboard<2.19,>=2.18->tensorflow) (0.7.2)\n",
      "Requirement already satisfied: werkzeug>=1.0.1 in /opt/anaconda3/lib/python3.12/site-packages (from tensorboard<2.19,>=2.18->tensorflow) (3.0.3)\n",
      "Requirement already satisfied: MarkupSafe>=2.1.1 in /opt/anaconda3/lib/python3.12/site-packages (from werkzeug>=1.0.1->tensorboard<2.19,>=2.18->tensorflow) (2.1.3)\n",
      "Requirement already satisfied: markdown-it-py>=2.2.0 in /opt/anaconda3/lib/python3.12/site-packages (from rich->keras>=3.5.0->tensorflow) (2.2.0)\n",
      "Requirement already satisfied: pygments<3.0.0,>=2.13.0 in /opt/anaconda3/lib/python3.12/site-packages (from rich->keras>=3.5.0->tensorflow) (2.15.1)\n",
      "Requirement already satisfied: mdurl~=0.1 in /opt/anaconda3/lib/python3.12/site-packages (from markdown-it-py>=2.2.0->rich->keras>=3.5.0->tensorflow) (0.1.0)\n"
     ]
    }
   ],
   "source": [
    "! pip install tensorflow\n"
   ]
  },
  {
   "cell_type": "code",
   "execution_count": 100,
   "metadata": {},
   "outputs": [
    {
     "name": "stdout",
     "output_type": "stream",
     "text": [
      "Requirement already satisfied: keras in /opt/anaconda3/lib/python3.12/site-packages (3.9.0)\n",
      "Requirement already satisfied: absl-py in /opt/anaconda3/lib/python3.12/site-packages (from keras) (2.1.0)\n",
      "Requirement already satisfied: numpy in /opt/anaconda3/lib/python3.12/site-packages (from keras) (1.26.4)\n",
      "Requirement already satisfied: rich in /opt/anaconda3/lib/python3.12/site-packages (from keras) (13.7.1)\n",
      "Requirement already satisfied: namex in /opt/anaconda3/lib/python3.12/site-packages (from keras) (0.0.8)\n",
      "Requirement already satisfied: h5py in /opt/anaconda3/lib/python3.12/site-packages (from keras) (3.11.0)\n",
      "Requirement already satisfied: optree in /opt/anaconda3/lib/python3.12/site-packages (from keras) (0.14.1)\n",
      "Requirement already satisfied: ml-dtypes in /opt/anaconda3/lib/python3.12/site-packages (from keras) (0.4.1)\n",
      "Requirement already satisfied: packaging in /opt/anaconda3/lib/python3.12/site-packages (from keras) (24.1)\n",
      "Requirement already satisfied: typing-extensions>=4.5.0 in /opt/anaconda3/lib/python3.12/site-packages (from optree->keras) (4.11.0)\n",
      "Requirement already satisfied: markdown-it-py>=2.2.0 in /opt/anaconda3/lib/python3.12/site-packages (from rich->keras) (2.2.0)\n",
      "Requirement already satisfied: pygments<3.0.0,>=2.13.0 in /opt/anaconda3/lib/python3.12/site-packages (from rich->keras) (2.15.1)\n",
      "Requirement already satisfied: mdurl~=0.1 in /opt/anaconda3/lib/python3.12/site-packages (from markdown-it-py>=2.2.0->rich->keras) (0.1.0)\n",
      "Note: you may need to restart the kernel to use updated packages.\n"
     ]
    }
   ],
   "source": [
    "pip install --upgrade keras"
   ]
  },
  {
   "cell_type": "code",
   "execution_count": null,
   "metadata": {},
   "outputs": [],
   "source": []
  },
  {
   "cell_type": "code",
   "execution_count": null,
   "metadata": {},
   "outputs": [],
   "source": []
  },
  {
   "cell_type": "code",
   "execution_count": 101,
   "metadata": {},
   "outputs": [],
   "source": [
    "from tensorflow.keras.preprocessing.text import one_hot"
   ]
  },
  {
   "cell_type": "code",
   "execution_count": 102,
   "metadata": {},
   "outputs": [],
   "source": [
    "### sentences\n",
    "sent=[  'the glass of milk',\n",
    "     'the glass of juice',\n",
    "     'the cup of tea',\n",
    "    'I am a good boy',\n",
    "     'I am a good developer',\n",
    "     'understand the meaning of words',\n",
    "     'your videos are good',]"
   ]
  },
  {
   "cell_type": "code",
   "execution_count": 103,
   "metadata": {},
   "outputs": [
    {
     "data": {
      "text/plain": [
       "['the glass of milk',\n",
       " 'the glass of juice',\n",
       " 'the cup of tea',\n",
       " 'I am a good boy',\n",
       " 'I am a good developer',\n",
       " 'understand the meaning of words',\n",
       " 'your videos are good']"
      ]
     },
     "execution_count": 103,
     "metadata": {},
     "output_type": "execute_result"
    }
   ],
   "source": [
    "sent"
   ]
  },
  {
   "cell_type": "code",
   "execution_count": 119,
   "metadata": {},
   "outputs": [],
   "source": [
    "## Define the vocabulary size\n",
    "voc_size=10000"
   ]
  },
  {
   "cell_type": "code",
   "execution_count": null,
   "metadata": {},
   "outputs": [],
   "source": []
  },
  {
   "cell_type": "code",
   "execution_count": 105,
   "metadata": {},
   "outputs": [
    {
     "data": {
      "text/plain": [
       "['the glass of milk',\n",
       " 'the glass of juice',\n",
       " 'the cup of tea',\n",
       " 'I am a good boy',\n",
       " 'I am a good developer',\n",
       " 'understand the meaning of words',\n",
       " 'your videos are good']"
      ]
     },
     "execution_count": 105,
     "metadata": {},
     "output_type": "execute_result"
    }
   ],
   "source": [
    "sent"
   ]
  },
  {
   "cell_type": "code",
   "execution_count": 106,
   "metadata": {},
   "outputs": [
    {
     "data": {
      "text/plain": [
       "[[6109, 1669, 8851, 7573],\n",
       " [6109, 1669, 8851, 6920],\n",
       " [6109, 4127, 8851, 6400],\n",
       " [4234, 5545, 384, 8643, 5894],\n",
       " [4234, 5545, 384, 8643, 4542],\n",
       " [7468, 6109, 5432, 8851, 7471],\n",
       " [5966, 8771, 7781, 8643]]"
      ]
     },
     "execution_count": 106,
     "metadata": {},
     "output_type": "execute_result"
    }
   ],
   "source": [
    "# one hot representation \n",
    "one_hot_rep=[one_hot(words,voc_size)for words in sent]\n",
    "one_hot_rep"
   ]
  },
  {
   "cell_type": "code",
   "execution_count": 107,
   "metadata": {},
   "outputs": [],
   "source": [
    "## word Embedding Representation\n",
    "from tensorflow.keras.layers import Embedding\n",
    "from tensorflow.keras.utils import pad_sequences\n",
    "from tensorflow.keras.models import Sequential"
   ]
  },
  {
   "cell_type": "code",
   "execution_count": 108,
   "metadata": {},
   "outputs": [],
   "source": [
    "import numpy as np"
   ]
  },
  {
   "cell_type": "code",
   "execution_count": 109,
   "metadata": {},
   "outputs": [
    {
     "name": "stdout",
     "output_type": "stream",
     "text": [
      "[[   0    0    0    0 6109 1669 8851 7573]\n",
      " [   0    0    0    0 6109 1669 8851 6920]\n",
      " [   0    0    0    0 6109 4127 8851 6400]\n",
      " [   0    0    0 4234 5545  384 8643 5894]\n",
      " [   0    0    0 4234 5545  384 8643 4542]\n",
      " [   0    0    0 7468 6109 5432 8851 7471]\n",
      " [   0    0    0    0 5966 8771 7781 8643]]\n"
     ]
    }
   ],
   "source": [
    "sent_length=8\n",
    "embedded_docs=pad_sequences(one_hot_rep,padding='pre',maxlen=sent_length)\n",
    "print(embedded_docs)\n"
   ]
  },
  {
   "cell_type": "code",
   "execution_count": 110,
   "metadata": {},
   "outputs": [],
   "source": [
    "#feature representation\n",
    "dim=10"
   ]
  },
  {
   "cell_type": "code",
   "execution_count": 111,
   "metadata": {},
   "outputs": [],
   "source": [
    "model=Sequential()\n",
    "model.add(Embedding(voc_size,dim,input_length=sent_length))\n",
    "model.compile('adam','mse')"
   ]
  },
  {
   "cell_type": "code",
   "execution_count": 117,
   "metadata": {},
   "outputs": [
    {
     "name": "stdout",
     "output_type": "stream",
     "text": [
      "\u001b[1m1/1\u001b[0m \u001b[32m━━━━━━━━━━━━━━━━━━━━\u001b[0m\u001b[37m\u001b[0m \u001b[1m0s\u001b[0m 28ms/step\n"
     ]
    },
    {
     "data": {
      "text/plain": [
       "array([[[ 3.45201828e-02,  1.18079074e-02, -1.73952356e-02,\n",
       "          2.37411000e-02,  2.23180987e-02, -4.42491844e-03,\n",
       "          1.09983310e-02, -5.10990620e-03,  4.01685275e-02,\n",
       "          4.98226322e-02],\n",
       "        [ 3.45201828e-02,  1.18079074e-02, -1.73952356e-02,\n",
       "          2.37411000e-02,  2.23180987e-02, -4.42491844e-03,\n",
       "          1.09983310e-02, -5.10990620e-03,  4.01685275e-02,\n",
       "          4.98226322e-02],\n",
       "        [ 3.45201828e-02,  1.18079074e-02, -1.73952356e-02,\n",
       "          2.37411000e-02,  2.23180987e-02, -4.42491844e-03,\n",
       "          1.09983310e-02, -5.10990620e-03,  4.01685275e-02,\n",
       "          4.98226322e-02],\n",
       "        [ 3.45201828e-02,  1.18079074e-02, -1.73952356e-02,\n",
       "          2.37411000e-02,  2.23180987e-02, -4.42491844e-03,\n",
       "          1.09983310e-02, -5.10990620e-03,  4.01685275e-02,\n",
       "          4.98226322e-02],\n",
       "        [-2.08592303e-02,  2.12338306e-02,  2.97911465e-05,\n",
       "          2.83903368e-02, -4.00596038e-02, -1.85633190e-02,\n",
       "         -1.66591257e-03,  1.18368752e-02, -1.35768764e-02,\n",
       "          1.48619153e-02],\n",
       "        [ 7.26182386e-03,  1.55292451e-04, -4.33456413e-02,\n",
       "          4.63793166e-02,  4.03872877e-03, -4.00791392e-02,\n",
       "          3.94441970e-02,  1.07116923e-02, -4.27271128e-02,\n",
       "          6.38283417e-03],\n",
       "        [ 3.55709679e-02, -4.37743068e-02, -1.09517351e-02,\n",
       "          2.23530792e-02,  9.42894071e-03,  4.64086048e-02,\n",
       "          3.91763486e-02,  3.74362506e-02, -6.59335777e-03,\n",
       "         -2.01091059e-02],\n",
       "        [-1.35455132e-02, -3.40585001e-02,  1.56768821e-02,\n",
       "          2.64970101e-02,  3.25700752e-02, -2.26949695e-02,\n",
       "          4.36519422e-02, -3.14674005e-02,  1.27587058e-02,\n",
       "         -2.31934078e-02]],\n",
       "\n",
       "       [[ 3.45201828e-02,  1.18079074e-02, -1.73952356e-02,\n",
       "          2.37411000e-02,  2.23180987e-02, -4.42491844e-03,\n",
       "          1.09983310e-02, -5.10990620e-03,  4.01685275e-02,\n",
       "          4.98226322e-02],\n",
       "        [ 3.45201828e-02,  1.18079074e-02, -1.73952356e-02,\n",
       "          2.37411000e-02,  2.23180987e-02, -4.42491844e-03,\n",
       "          1.09983310e-02, -5.10990620e-03,  4.01685275e-02,\n",
       "          4.98226322e-02],\n",
       "        [ 3.45201828e-02,  1.18079074e-02, -1.73952356e-02,\n",
       "          2.37411000e-02,  2.23180987e-02, -4.42491844e-03,\n",
       "          1.09983310e-02, -5.10990620e-03,  4.01685275e-02,\n",
       "          4.98226322e-02],\n",
       "        [ 3.45201828e-02,  1.18079074e-02, -1.73952356e-02,\n",
       "          2.37411000e-02,  2.23180987e-02, -4.42491844e-03,\n",
       "          1.09983310e-02, -5.10990620e-03,  4.01685275e-02,\n",
       "          4.98226322e-02],\n",
       "        [-2.08592303e-02,  2.12338306e-02,  2.97911465e-05,\n",
       "          2.83903368e-02, -4.00596038e-02, -1.85633190e-02,\n",
       "         -1.66591257e-03,  1.18368752e-02, -1.35768764e-02,\n",
       "          1.48619153e-02],\n",
       "        [ 7.26182386e-03,  1.55292451e-04, -4.33456413e-02,\n",
       "          4.63793166e-02,  4.03872877e-03, -4.00791392e-02,\n",
       "          3.94441970e-02,  1.07116923e-02, -4.27271128e-02,\n",
       "          6.38283417e-03],\n",
       "        [ 3.55709679e-02, -4.37743068e-02, -1.09517351e-02,\n",
       "          2.23530792e-02,  9.42894071e-03,  4.64086048e-02,\n",
       "          3.91763486e-02,  3.74362506e-02, -6.59335777e-03,\n",
       "         -2.01091059e-02],\n",
       "        [-1.83991790e-02,  6.71637058e-03,  7.30459765e-03,\n",
       "          1.47938170e-02,  4.93552797e-02,  4.16153558e-02,\n",
       "          2.32547857e-02, -2.24019177e-02, -2.29960084e-02,\n",
       "         -2.74336338e-03]],\n",
       "\n",
       "       [[ 3.45201828e-02,  1.18079074e-02, -1.73952356e-02,\n",
       "          2.37411000e-02,  2.23180987e-02, -4.42491844e-03,\n",
       "          1.09983310e-02, -5.10990620e-03,  4.01685275e-02,\n",
       "          4.98226322e-02],\n",
       "        [ 3.45201828e-02,  1.18079074e-02, -1.73952356e-02,\n",
       "          2.37411000e-02,  2.23180987e-02, -4.42491844e-03,\n",
       "          1.09983310e-02, -5.10990620e-03,  4.01685275e-02,\n",
       "          4.98226322e-02],\n",
       "        [ 3.45201828e-02,  1.18079074e-02, -1.73952356e-02,\n",
       "          2.37411000e-02,  2.23180987e-02, -4.42491844e-03,\n",
       "          1.09983310e-02, -5.10990620e-03,  4.01685275e-02,\n",
       "          4.98226322e-02],\n",
       "        [ 3.45201828e-02,  1.18079074e-02, -1.73952356e-02,\n",
       "          2.37411000e-02,  2.23180987e-02, -4.42491844e-03,\n",
       "          1.09983310e-02, -5.10990620e-03,  4.01685275e-02,\n",
       "          4.98226322e-02],\n",
       "        [-2.08592303e-02,  2.12338306e-02,  2.97911465e-05,\n",
       "          2.83903368e-02, -4.00596038e-02, -1.85633190e-02,\n",
       "         -1.66591257e-03,  1.18368752e-02, -1.35768764e-02,\n",
       "          1.48619153e-02],\n",
       "        [-3.00170109e-03,  2.93723382e-02, -1.17687955e-02,\n",
       "         -2.96389945e-02, -2.84167286e-02,  3.23886983e-02,\n",
       "         -4.96870056e-02, -1.68776996e-02,  4.42496426e-02,\n",
       "          1.89833716e-03],\n",
       "        [ 3.55709679e-02, -4.37743068e-02, -1.09517351e-02,\n",
       "          2.23530792e-02,  9.42894071e-03,  4.64086048e-02,\n",
       "          3.91763486e-02,  3.74362506e-02, -6.59335777e-03,\n",
       "         -2.01091059e-02],\n",
       "        [ 4.48033474e-02, -4.00214307e-02,  5.42870909e-03,\n",
       "          3.68047506e-04,  4.36192751e-03, -4.10982743e-02,\n",
       "         -4.05191071e-02, -3.77583019e-02,  4.62910570e-02,\n",
       "          1.39537491e-02]],\n",
       "\n",
       "       [[ 3.45201828e-02,  1.18079074e-02, -1.73952356e-02,\n",
       "          2.37411000e-02,  2.23180987e-02, -4.42491844e-03,\n",
       "          1.09983310e-02, -5.10990620e-03,  4.01685275e-02,\n",
       "          4.98226322e-02],\n",
       "        [ 3.45201828e-02,  1.18079074e-02, -1.73952356e-02,\n",
       "          2.37411000e-02,  2.23180987e-02, -4.42491844e-03,\n",
       "          1.09983310e-02, -5.10990620e-03,  4.01685275e-02,\n",
       "          4.98226322e-02],\n",
       "        [ 3.45201828e-02,  1.18079074e-02, -1.73952356e-02,\n",
       "          2.37411000e-02,  2.23180987e-02, -4.42491844e-03,\n",
       "          1.09983310e-02, -5.10990620e-03,  4.01685275e-02,\n",
       "          4.98226322e-02],\n",
       "        [-4.16684039e-02, -4.20299917e-03, -2.35773213e-02,\n",
       "          2.02119239e-02, -1.27925500e-02,  1.95797123e-02,\n",
       "         -3.73162143e-02, -3.79374400e-02, -3.06158140e-03,\n",
       "          2.12143324e-02],\n",
       "        [-2.27646958e-02, -3.67068760e-02,  1.47199966e-02,\n",
       "          4.35986780e-02, -4.24976721e-02,  4.29786369e-03,\n",
       "          4.74301912e-02,  3.91565450e-02,  1.25109665e-02,\n",
       "         -1.90415625e-02],\n",
       "        [-1.52448639e-02, -2.63167266e-02,  2.39582099e-02,\n",
       "         -4.72459570e-02,  3.82130183e-02, -2.32309587e-02,\n",
       "          3.66635658e-02,  1.99030749e-02,  1.17815845e-02,\n",
       "          4.46793549e-02],\n",
       "        [-2.03006268e-02, -1.95247065e-02, -1.23820901e-02,\n",
       "          1.14187226e-02, -2.22056508e-02,  4.69933413e-02,\n",
       "         -3.02811991e-02, -3.32876071e-02,  3.48214395e-02,\n",
       "         -4.94338199e-03],\n",
       "        [ 1.88170187e-02, -1.01494789e-03, -1.32359378e-02,\n",
       "         -3.96777764e-02, -2.68170722e-02, -4.15271521e-02,\n",
       "         -4.09844033e-02,  3.96089442e-02, -3.43441367e-02,\n",
       "          1.67455412e-02]],\n",
       "\n",
       "       [[ 3.45201828e-02,  1.18079074e-02, -1.73952356e-02,\n",
       "          2.37411000e-02,  2.23180987e-02, -4.42491844e-03,\n",
       "          1.09983310e-02, -5.10990620e-03,  4.01685275e-02,\n",
       "          4.98226322e-02],\n",
       "        [ 3.45201828e-02,  1.18079074e-02, -1.73952356e-02,\n",
       "          2.37411000e-02,  2.23180987e-02, -4.42491844e-03,\n",
       "          1.09983310e-02, -5.10990620e-03,  4.01685275e-02,\n",
       "          4.98226322e-02],\n",
       "        [ 3.45201828e-02,  1.18079074e-02, -1.73952356e-02,\n",
       "          2.37411000e-02,  2.23180987e-02, -4.42491844e-03,\n",
       "          1.09983310e-02, -5.10990620e-03,  4.01685275e-02,\n",
       "          4.98226322e-02],\n",
       "        [-4.16684039e-02, -4.20299917e-03, -2.35773213e-02,\n",
       "          2.02119239e-02, -1.27925500e-02,  1.95797123e-02,\n",
       "         -3.73162143e-02, -3.79374400e-02, -3.06158140e-03,\n",
       "          2.12143324e-02],\n",
       "        [-2.27646958e-02, -3.67068760e-02,  1.47199966e-02,\n",
       "          4.35986780e-02, -4.24976721e-02,  4.29786369e-03,\n",
       "          4.74301912e-02,  3.91565450e-02,  1.25109665e-02,\n",
       "         -1.90415625e-02],\n",
       "        [-1.52448639e-02, -2.63167266e-02,  2.39582099e-02,\n",
       "         -4.72459570e-02,  3.82130183e-02, -2.32309587e-02,\n",
       "          3.66635658e-02,  1.99030749e-02,  1.17815845e-02,\n",
       "          4.46793549e-02],\n",
       "        [-2.03006268e-02, -1.95247065e-02, -1.23820901e-02,\n",
       "          1.14187226e-02, -2.22056508e-02,  4.69933413e-02,\n",
       "         -3.02811991e-02, -3.32876071e-02,  3.48214395e-02,\n",
       "         -4.94338199e-03],\n",
       "        [ 1.31442212e-02,  2.44751908e-02, -3.56219187e-02,\n",
       "          3.82823087e-02, -3.04321647e-02, -3.38560119e-02,\n",
       "         -4.37985063e-02, -4.40412164e-02, -4.06209938e-02,\n",
       "          3.38892378e-02]],\n",
       "\n",
       "       [[ 3.45201828e-02,  1.18079074e-02, -1.73952356e-02,\n",
       "          2.37411000e-02,  2.23180987e-02, -4.42491844e-03,\n",
       "          1.09983310e-02, -5.10990620e-03,  4.01685275e-02,\n",
       "          4.98226322e-02],\n",
       "        [ 3.45201828e-02,  1.18079074e-02, -1.73952356e-02,\n",
       "          2.37411000e-02,  2.23180987e-02, -4.42491844e-03,\n",
       "          1.09983310e-02, -5.10990620e-03,  4.01685275e-02,\n",
       "          4.98226322e-02],\n",
       "        [ 3.45201828e-02,  1.18079074e-02, -1.73952356e-02,\n",
       "          2.37411000e-02,  2.23180987e-02, -4.42491844e-03,\n",
       "          1.09983310e-02, -5.10990620e-03,  4.01685275e-02,\n",
       "          4.98226322e-02],\n",
       "        [-2.51414068e-02, -2.43593343e-02, -4.60807197e-02,\n",
       "          7.24505633e-04,  3.31378691e-02,  1.49719603e-02,\n",
       "         -9.72406939e-03,  3.64055745e-02, -3.78687494e-02,\n",
       "         -2.97610052e-02],\n",
       "        [-2.08592303e-02,  2.12338306e-02,  2.97911465e-05,\n",
       "          2.83903368e-02, -4.00596038e-02, -1.85633190e-02,\n",
       "         -1.66591257e-03,  1.18368752e-02, -1.35768764e-02,\n",
       "          1.48619153e-02],\n",
       "        [ 3.10769118e-02, -9.31680202e-04, -3.79666090e-02,\n",
       "         -3.06218024e-02,  2.56402828e-02, -2.91817430e-02,\n",
       "         -9.91030782e-03,  1.56625621e-02,  1.17156021e-02,\n",
       "         -1.07469670e-02],\n",
       "        [ 3.55709679e-02, -4.37743068e-02, -1.09517351e-02,\n",
       "          2.23530792e-02,  9.42894071e-03,  4.64086048e-02,\n",
       "          3.91763486e-02,  3.74362506e-02, -6.59335777e-03,\n",
       "         -2.01091059e-02],\n",
       "        [ 4.37102057e-02,  1.27458461e-02, -2.82805804e-02,\n",
       "          2.61586905e-03,  3.57741751e-02,  1.01846457e-02,\n",
       "         -2.71307826e-02, -4.03273106e-03,  7.76625797e-03,\n",
       "          6.91395998e-03]],\n",
       "\n",
       "       [[ 3.45201828e-02,  1.18079074e-02, -1.73952356e-02,\n",
       "          2.37411000e-02,  2.23180987e-02, -4.42491844e-03,\n",
       "          1.09983310e-02, -5.10990620e-03,  4.01685275e-02,\n",
       "          4.98226322e-02],\n",
       "        [ 3.45201828e-02,  1.18079074e-02, -1.73952356e-02,\n",
       "          2.37411000e-02,  2.23180987e-02, -4.42491844e-03,\n",
       "          1.09983310e-02, -5.10990620e-03,  4.01685275e-02,\n",
       "          4.98226322e-02],\n",
       "        [ 3.45201828e-02,  1.18079074e-02, -1.73952356e-02,\n",
       "          2.37411000e-02,  2.23180987e-02, -4.42491844e-03,\n",
       "          1.09983310e-02, -5.10990620e-03,  4.01685275e-02,\n",
       "          4.98226322e-02],\n",
       "        [ 3.45201828e-02,  1.18079074e-02, -1.73952356e-02,\n",
       "          2.37411000e-02,  2.23180987e-02, -4.42491844e-03,\n",
       "          1.09983310e-02, -5.10990620e-03,  4.01685275e-02,\n",
       "          4.98226322e-02],\n",
       "        [-2.79502161e-02,  1.33954398e-02, -1.28145926e-02,\n",
       "         -8.68632644e-03,  2.02723779e-02,  3.64621393e-02,\n",
       "         -3.50823514e-02, -4.71831560e-02,  3.19556929e-02,\n",
       "          4.50602062e-02],\n",
       "        [ 2.80914456e-03, -8.07783753e-03, -3.38121876e-02,\n",
       "         -3.96335348e-02,  1.74571984e-02, -4.43797112e-02,\n",
       "         -2.80427691e-02,  4.26728837e-02,  1.29456408e-02,\n",
       "         -5.20410389e-03],\n",
       "        [ 3.08444537e-02,  4.62339632e-02, -4.91869822e-02,\n",
       "         -1.31578334e-02,  1.94504298e-02,  3.50675322e-02,\n",
       "         -2.04249974e-02, -2.00120565e-02,  2.13043727e-02,\n",
       "         -2.58245114e-02],\n",
       "        [-2.03006268e-02, -1.95247065e-02, -1.23820901e-02,\n",
       "          1.14187226e-02, -2.22056508e-02,  4.69933413e-02,\n",
       "         -3.02811991e-02, -3.32876071e-02,  3.48214395e-02,\n",
       "         -4.94338199e-03]]], dtype=float32)"
      ]
     },
     "execution_count": 117,
     "metadata": {},
     "output_type": "execute_result"
    }
   ],
   "source": [
    "model.predict(embedded_docs)"
   ]
  },
  {
   "cell_type": "code",
   "execution_count": null,
   "metadata": {},
   "outputs": [],
   "source": []
  },
  {
   "cell_type": "code",
   "execution_count": null,
   "metadata": {},
   "outputs": [],
   "source": []
  },
  {
   "cell_type": "code",
   "execution_count": null,
   "metadata": {},
   "outputs": [],
   "source": []
  },
  {
   "cell_type": "code",
   "execution_count": null,
   "metadata": {},
   "outputs": [],
   "source": []
  },
  {
   "cell_type": "code",
   "execution_count": null,
   "metadata": {},
   "outputs": [],
   "source": []
  },
  {
   "cell_type": "code",
   "execution_count": null,
   "metadata": {},
   "outputs": [],
   "source": []
  },
  {
   "cell_type": "code",
   "execution_count": null,
   "metadata": {},
   "outputs": [],
   "source": []
  },
  {
   "cell_type": "code",
   "execution_count": null,
   "metadata": {},
   "outputs": [],
   "source": []
  }
 ],
 "metadata": {
  "kernelspec": {
   "display_name": "venv",
   "language": "python",
   "name": "python3"
  },
  "language_info": {
   "codemirror_mode": {
    "name": "ipython",
    "version": 3
   },
   "file_extension": ".py",
   "mimetype": "text/x-python",
   "name": "python",
   "nbconvert_exporter": "python",
   "pygments_lexer": "ipython3",
   "version": "3.12.7"
  }
 },
 "nbformat": 4,
 "nbformat_minor": 2
}
