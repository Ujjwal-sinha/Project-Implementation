{
 "cells": [
  {
   "cell_type": "code",
   "execution_count": 1,
   "metadata": {},
   "outputs": [
    {
     "name": "stdout",
     "output_type": "stream",
     "text": [
      "Requirement already satisfied: tensorflow in /opt/anaconda3/lib/python3.12/site-packages (2.18.0)\n",
      "Requirement already satisfied: absl-py>=1.0.0 in /opt/anaconda3/lib/python3.12/site-packages (from tensorflow) (2.1.0)\n",
      "Requirement already satisfied: astunparse>=1.6.0 in /opt/anaconda3/lib/python3.12/site-packages (from tensorflow) (1.6.3)\n",
      "Requirement already satisfied: flatbuffers>=24.3.25 in /opt/anaconda3/lib/python3.12/site-packages (from tensorflow) (25.2.10)\n",
      "Requirement already satisfied: gast!=0.5.0,!=0.5.1,!=0.5.2,>=0.2.1 in /opt/anaconda3/lib/python3.12/site-packages (from tensorflow) (0.6.0)\n",
      "Requirement already satisfied: google-pasta>=0.1.1 in /opt/anaconda3/lib/python3.12/site-packages (from tensorflow) (0.2.0)\n",
      "Requirement already satisfied: libclang>=13.0.0 in /opt/anaconda3/lib/python3.12/site-packages (from tensorflow) (18.1.1)\n",
      "Requirement already satisfied: opt-einsum>=2.3.2 in /opt/anaconda3/lib/python3.12/site-packages (from tensorflow) (3.4.0)\n",
      "Requirement already satisfied: packaging in /opt/anaconda3/lib/python3.12/site-packages (from tensorflow) (24.1)\n",
      "Requirement already satisfied: protobuf!=4.21.0,!=4.21.1,!=4.21.2,!=4.21.3,!=4.21.4,!=4.21.5,<6.0.0dev,>=3.20.3 in /opt/anaconda3/lib/python3.12/site-packages (from tensorflow) (4.25.3)\n",
      "Requirement already satisfied: requests<3,>=2.21.0 in /opt/anaconda3/lib/python3.12/site-packages (from tensorflow) (2.32.3)\n",
      "Requirement already satisfied: setuptools in /opt/anaconda3/lib/python3.12/site-packages (from tensorflow) (75.8.0)\n",
      "Requirement already satisfied: six>=1.12.0 in /opt/anaconda3/lib/python3.12/site-packages (from tensorflow) (1.16.0)\n",
      "Requirement already satisfied: termcolor>=1.1.0 in /opt/anaconda3/lib/python3.12/site-packages (from tensorflow) (2.5.0)\n",
      "Requirement already satisfied: typing-extensions>=3.6.6 in /opt/anaconda3/lib/python3.12/site-packages (from tensorflow) (4.11.0)\n",
      "Requirement already satisfied: wrapt>=1.11.0 in /opt/anaconda3/lib/python3.12/site-packages (from tensorflow) (1.14.1)\n",
      "Requirement already satisfied: grpcio<2.0,>=1.24.3 in /opt/anaconda3/lib/python3.12/site-packages (from tensorflow) (1.70.0)\n",
      "Requirement already satisfied: tensorboard<2.19,>=2.18 in /opt/anaconda3/lib/python3.12/site-packages (from tensorflow) (2.18.0)\n",
      "Requirement already satisfied: keras>=3.5.0 in /opt/anaconda3/lib/python3.12/site-packages (from tensorflow) (3.9.0)\n",
      "Requirement already satisfied: numpy<2.1.0,>=1.26.0 in /opt/anaconda3/lib/python3.12/site-packages (from tensorflow) (1.26.4)\n",
      "Requirement already satisfied: h5py>=3.11.0 in /opt/anaconda3/lib/python3.12/site-packages (from tensorflow) (3.11.0)\n",
      "Requirement already satisfied: ml-dtypes<0.5.0,>=0.4.0 in /opt/anaconda3/lib/python3.12/site-packages (from tensorflow) (0.4.1)\n",
      "Requirement already satisfied: wheel<1.0,>=0.23.0 in /opt/anaconda3/lib/python3.12/site-packages (from astunparse>=1.6.0->tensorflow) (0.45.1)\n",
      "Requirement already satisfied: rich in /opt/anaconda3/lib/python3.12/site-packages (from keras>=3.5.0->tensorflow) (13.7.1)\n",
      "Requirement already satisfied: namex in /opt/anaconda3/lib/python3.12/site-packages (from keras>=3.5.0->tensorflow) (0.0.8)\n",
      "Requirement already satisfied: optree in /opt/anaconda3/lib/python3.12/site-packages (from keras>=3.5.0->tensorflow) (0.14.1)\n",
      "Requirement already satisfied: charset-normalizer<4,>=2 in /opt/anaconda3/lib/python3.12/site-packages (from requests<3,>=2.21.0->tensorflow) (3.3.2)\n",
      "Requirement already satisfied: idna<4,>=2.5 in /opt/anaconda3/lib/python3.12/site-packages (from requests<3,>=2.21.0->tensorflow) (3.7)\n",
      "Requirement already satisfied: urllib3<3,>=1.21.1 in /opt/anaconda3/lib/python3.12/site-packages (from requests<3,>=2.21.0->tensorflow) (2.2.3)\n",
      "Requirement already satisfied: certifi>=2017.4.17 in /opt/anaconda3/lib/python3.12/site-packages (from requests<3,>=2.21.0->tensorflow) (2024.12.14)\n",
      "Requirement already satisfied: markdown>=2.6.8 in /opt/anaconda3/lib/python3.12/site-packages (from tensorboard<2.19,>=2.18->tensorflow) (3.4.1)\n",
      "Requirement already satisfied: tensorboard-data-server<0.8.0,>=0.7.0 in /opt/anaconda3/lib/python3.12/site-packages (from tensorboard<2.19,>=2.18->tensorflow) (0.7.2)\n",
      "Requirement already satisfied: werkzeug>=1.0.1 in /opt/anaconda3/lib/python3.12/site-packages (from tensorboard<2.19,>=2.18->tensorflow) (3.0.3)\n",
      "Requirement already satisfied: MarkupSafe>=2.1.1 in /opt/anaconda3/lib/python3.12/site-packages (from werkzeug>=1.0.1->tensorboard<2.19,>=2.18->tensorflow) (2.1.3)\n",
      "Requirement already satisfied: markdown-it-py>=2.2.0 in /opt/anaconda3/lib/python3.12/site-packages (from rich->keras>=3.5.0->tensorflow) (2.2.0)\n",
      "Requirement already satisfied: pygments<3.0.0,>=2.13.0 in /opt/anaconda3/lib/python3.12/site-packages (from rich->keras>=3.5.0->tensorflow) (2.15.1)\n",
      "Requirement already satisfied: mdurl~=0.1 in /opt/anaconda3/lib/python3.12/site-packages (from markdown-it-py>=2.2.0->rich->keras>=3.5.0->tensorflow) (0.1.0)\n"
     ]
    }
   ],
   "source": [
    "! pip install tensorflow\n"
   ]
  },
  {
   "cell_type": "code",
   "execution_count": 2,
   "metadata": {},
   "outputs": [
    {
     "name": "stdout",
     "output_type": "stream",
     "text": [
      "Requirement already satisfied: keras in /opt/anaconda3/lib/python3.12/site-packages (3.9.0)\n",
      "Requirement already satisfied: absl-py in /opt/anaconda3/lib/python3.12/site-packages (from keras) (2.1.0)\n",
      "Requirement already satisfied: numpy in /opt/anaconda3/lib/python3.12/site-packages (from keras) (1.26.4)\n",
      "Requirement already satisfied: rich in /opt/anaconda3/lib/python3.12/site-packages (from keras) (13.7.1)\n",
      "Requirement already satisfied: namex in /opt/anaconda3/lib/python3.12/site-packages (from keras) (0.0.8)\n",
      "Requirement already satisfied: h5py in /opt/anaconda3/lib/python3.12/site-packages (from keras) (3.11.0)\n",
      "Requirement already satisfied: optree in /opt/anaconda3/lib/python3.12/site-packages (from keras) (0.14.1)\n",
      "Requirement already satisfied: ml-dtypes in /opt/anaconda3/lib/python3.12/site-packages (from keras) (0.4.1)\n",
      "Requirement already satisfied: packaging in /opt/anaconda3/lib/python3.12/site-packages (from keras) (24.1)\n",
      "Requirement already satisfied: typing-extensions>=4.5.0 in /opt/anaconda3/lib/python3.12/site-packages (from optree->keras) (4.11.0)\n",
      "Requirement already satisfied: markdown-it-py>=2.2.0 in /opt/anaconda3/lib/python3.12/site-packages (from rich->keras) (2.2.0)\n",
      "Requirement already satisfied: pygments<3.0.0,>=2.13.0 in /opt/anaconda3/lib/python3.12/site-packages (from rich->keras) (2.15.1)\n",
      "Requirement already satisfied: mdurl~=0.1 in /opt/anaconda3/lib/python3.12/site-packages (from markdown-it-py>=2.2.0->rich->keras) (0.1.0)\n",
      "Note: you may need to restart the kernel to use updated packages.\n"
     ]
    }
   ],
   "source": [
    "pip install --upgrade keras"
   ]
  },
  {
   "cell_type": "code",
   "execution_count": null,
   "metadata": {},
   "outputs": [],
   "source": []
  },
  {
   "cell_type": "code",
   "execution_count": null,
   "metadata": {},
   "outputs": [],
   "source": []
  },
  {
   "cell_type": "code",
   "execution_count": 3,
   "metadata": {},
   "outputs": [],
   "source": [
    "from tensorflow.keras.preprocessing.text import one_hot"
   ]
  },
  {
   "cell_type": "code",
   "execution_count": 4,
   "metadata": {},
   "outputs": [],
   "source": [
    "### sentences\n",
    "sent=[  'the glass of milk',\n",
    "     'the glass of juice',\n",
    "     'the cup of tea',\n",
    "    'I am a good boy',\n",
    "     'I am a good developer',\n",
    "     'understand the meaning of words',\n",
    "     'your videos are good',]"
   ]
  },
  {
   "cell_type": "code",
   "execution_count": 5,
   "metadata": {},
   "outputs": [
    {
     "data": {
      "text/plain": [
       "['the glass of milk',\n",
       " 'the glass of juice',\n",
       " 'the cup of tea',\n",
       " 'I am a good boy',\n",
       " 'I am a good developer',\n",
       " 'understand the meaning of words',\n",
       " 'your videos are good']"
      ]
     },
     "execution_count": 5,
     "metadata": {},
     "output_type": "execute_result"
    }
   ],
   "source": [
    "sent"
   ]
  },
  {
   "cell_type": "code",
   "execution_count": 6,
   "metadata": {},
   "outputs": [],
   "source": [
    "## Define the vocabulary size\n",
    "voc_size=10000"
   ]
  },
  {
   "cell_type": "code",
   "execution_count": null,
   "metadata": {},
   "outputs": [],
   "source": []
  },
  {
   "cell_type": "code",
   "execution_count": 7,
   "metadata": {},
   "outputs": [
    {
     "data": {
      "text/plain": [
       "['the glass of milk',\n",
       " 'the glass of juice',\n",
       " 'the cup of tea',\n",
       " 'I am a good boy',\n",
       " 'I am a good developer',\n",
       " 'understand the meaning of words',\n",
       " 'your videos are good']"
      ]
     },
     "execution_count": 7,
     "metadata": {},
     "output_type": "execute_result"
    }
   ],
   "source": [
    "sent"
   ]
  },
  {
   "cell_type": "code",
   "execution_count": 8,
   "metadata": {},
   "outputs": [
    {
     "data": {
      "text/plain": [
       "[[1782, 1650, 9799, 7342],\n",
       " [1782, 1650, 9799, 2670],\n",
       " [1782, 1397, 9799, 439],\n",
       " [75, 6778, 7306, 19, 2593],\n",
       " [75, 6778, 7306, 19, 959],\n",
       " [8021, 1782, 5078, 9799, 4532],\n",
       " [8977, 4146, 5358, 19]]"
      ]
     },
     "execution_count": 8,
     "metadata": {},
     "output_type": "execute_result"
    }
   ],
   "source": [
    "# one hot representation \n",
    "one_hot_rep=[one_hot(words,voc_size)for words in sent]\n",
    "one_hot_rep"
   ]
  },
  {
   "cell_type": "code",
   "execution_count": 9,
   "metadata": {},
   "outputs": [],
   "source": [
    "## word Embedding Representation\n",
    "from tensorflow.keras.layers import Embedding\n",
    "from tensorflow.keras.utils import pad_sequences\n",
    "from tensorflow.keras.models import Sequential"
   ]
  },
  {
   "cell_type": "code",
   "execution_count": 10,
   "metadata": {},
   "outputs": [],
   "source": [
    "import numpy as np"
   ]
  },
  {
   "cell_type": "code",
   "execution_count": 11,
   "metadata": {},
   "outputs": [
    {
     "name": "stdout",
     "output_type": "stream",
     "text": [
      "[[   0    0    0    0 1782 1650 9799 7342]\n",
      " [   0    0    0    0 1782 1650 9799 2670]\n",
      " [   0    0    0    0 1782 1397 9799  439]\n",
      " [   0    0    0   75 6778 7306   19 2593]\n",
      " [   0    0    0   75 6778 7306   19  959]\n",
      " [   0    0    0 8021 1782 5078 9799 4532]\n",
      " [   0    0    0    0 8977 4146 5358   19]]\n"
     ]
    }
   ],
   "source": [
    "sent_length=8\n",
    "embedded_docs=pad_sequences(one_hot_rep,padding='pre',maxlen=sent_length)\n",
    "print(embedded_docs)\n"
   ]
  },
  {
   "cell_type": "code",
   "execution_count": 12,
   "metadata": {},
   "outputs": [],
   "source": [
    "#feature representation\n",
    "dim=10"
   ]
  },
  {
   "cell_type": "code",
   "execution_count": 13,
   "metadata": {},
   "outputs": [
    {
     "name": "stderr",
     "output_type": "stream",
     "text": [
      "/opt/anaconda3/lib/python3.12/site-packages/keras/src/layers/core/embedding.py:90: UserWarning: Argument `input_length` is deprecated. Just remove it.\n",
      "  warnings.warn(\n"
     ]
    }
   ],
   "source": [
    "model=Sequential()\n",
    "model.add(Embedding(voc_size,dim,input_length=sent_length))\n",
    "model.compile('adam','mse')"
   ]
  },
  {
   "cell_type": "code",
   "execution_count": 14,
   "metadata": {},
   "outputs": [
    {
     "name": "stdout",
     "output_type": "stream",
     "text": [
      "\u001b[1m1/1\u001b[0m \u001b[32m━━━━━━━━━━━━━━━━━━━━\u001b[0m\u001b[37m\u001b[0m \u001b[1m0s\u001b[0m 111ms/step\n"
     ]
    },
    {
     "data": {
      "text/plain": [
       "array([[[-4.07544523e-03,  3.08449604e-02,  3.35197523e-03,\n",
       "          1.63113512e-02, -1.72197595e-02, -1.36617199e-02,\n",
       "          8.22455809e-03,  9.23106819e-03,  4.46573384e-02,\n",
       "         -4.51941490e-02],\n",
       "        [-4.07544523e-03,  3.08449604e-02,  3.35197523e-03,\n",
       "          1.63113512e-02, -1.72197595e-02, -1.36617199e-02,\n",
       "          8.22455809e-03,  9.23106819e-03,  4.46573384e-02,\n",
       "         -4.51941490e-02],\n",
       "        [-4.07544523e-03,  3.08449604e-02,  3.35197523e-03,\n",
       "          1.63113512e-02, -1.72197595e-02, -1.36617199e-02,\n",
       "          8.22455809e-03,  9.23106819e-03,  4.46573384e-02,\n",
       "         -4.51941490e-02],\n",
       "        [-4.07544523e-03,  3.08449604e-02,  3.35197523e-03,\n",
       "          1.63113512e-02, -1.72197595e-02, -1.36617199e-02,\n",
       "          8.22455809e-03,  9.23106819e-03,  4.46573384e-02,\n",
       "         -4.51941490e-02],\n",
       "        [-1.71579607e-02,  1.42115019e-02,  1.92670859e-02,\n",
       "         -4.41040993e-02,  2.87097953e-02,  4.69161905e-02,\n",
       "          9.17525217e-03, -5.88095188e-03, -4.96487692e-03,\n",
       "          3.60756405e-02],\n",
       "        [ 4.77775373e-02, -4.54201959e-02,  3.20647471e-02,\n",
       "         -4.41296026e-03,  7.76197761e-03,  1.92984678e-02,\n",
       "         -2.09944975e-02,  3.34898718e-02,  3.18544619e-02,\n",
       "          4.77937572e-02],\n",
       "        [ 2.81370617e-02, -3.21574360e-02, -7.71577284e-03,\n",
       "         -1.85157172e-02,  7.40858167e-03, -3.21181864e-03,\n",
       "         -2.87517067e-02, -3.83661501e-02, -5.49981743e-03,\n",
       "          3.10011618e-02],\n",
       "        [-4.24770974e-02, -4.96241823e-02, -4.19615507e-02,\n",
       "         -4.38112132e-02, -1.66685581e-02,  3.68984975e-02,\n",
       "         -3.89356501e-02,  1.28282793e-02, -1.53826363e-02,\n",
       "         -1.54830217e-02]],\n",
       "\n",
       "       [[-4.07544523e-03,  3.08449604e-02,  3.35197523e-03,\n",
       "          1.63113512e-02, -1.72197595e-02, -1.36617199e-02,\n",
       "          8.22455809e-03,  9.23106819e-03,  4.46573384e-02,\n",
       "         -4.51941490e-02],\n",
       "        [-4.07544523e-03,  3.08449604e-02,  3.35197523e-03,\n",
       "          1.63113512e-02, -1.72197595e-02, -1.36617199e-02,\n",
       "          8.22455809e-03,  9.23106819e-03,  4.46573384e-02,\n",
       "         -4.51941490e-02],\n",
       "        [-4.07544523e-03,  3.08449604e-02,  3.35197523e-03,\n",
       "          1.63113512e-02, -1.72197595e-02, -1.36617199e-02,\n",
       "          8.22455809e-03,  9.23106819e-03,  4.46573384e-02,\n",
       "         -4.51941490e-02],\n",
       "        [-4.07544523e-03,  3.08449604e-02,  3.35197523e-03,\n",
       "          1.63113512e-02, -1.72197595e-02, -1.36617199e-02,\n",
       "          8.22455809e-03,  9.23106819e-03,  4.46573384e-02,\n",
       "         -4.51941490e-02],\n",
       "        [-1.71579607e-02,  1.42115019e-02,  1.92670859e-02,\n",
       "         -4.41040993e-02,  2.87097953e-02,  4.69161905e-02,\n",
       "          9.17525217e-03, -5.88095188e-03, -4.96487692e-03,\n",
       "          3.60756405e-02],\n",
       "        [ 4.77775373e-02, -4.54201959e-02,  3.20647471e-02,\n",
       "         -4.41296026e-03,  7.76197761e-03,  1.92984678e-02,\n",
       "         -2.09944975e-02,  3.34898718e-02,  3.18544619e-02,\n",
       "          4.77937572e-02],\n",
       "        [ 2.81370617e-02, -3.21574360e-02, -7.71577284e-03,\n",
       "         -1.85157172e-02,  7.40858167e-03, -3.21181864e-03,\n",
       "         -2.87517067e-02, -3.83661501e-02, -5.49981743e-03,\n",
       "          3.10011618e-02],\n",
       "        [-3.35853845e-02, -4.31212038e-03,  4.89675738e-02,\n",
       "         -3.13023478e-02, -3.55778933e-02, -1.66896805e-02,\n",
       "         -1.89449675e-02,  3.65603231e-02, -3.29092965e-02,\n",
       "         -4.54586633e-02]],\n",
       "\n",
       "       [[-4.07544523e-03,  3.08449604e-02,  3.35197523e-03,\n",
       "          1.63113512e-02, -1.72197595e-02, -1.36617199e-02,\n",
       "          8.22455809e-03,  9.23106819e-03,  4.46573384e-02,\n",
       "         -4.51941490e-02],\n",
       "        [-4.07544523e-03,  3.08449604e-02,  3.35197523e-03,\n",
       "          1.63113512e-02, -1.72197595e-02, -1.36617199e-02,\n",
       "          8.22455809e-03,  9.23106819e-03,  4.46573384e-02,\n",
       "         -4.51941490e-02],\n",
       "        [-4.07544523e-03,  3.08449604e-02,  3.35197523e-03,\n",
       "          1.63113512e-02, -1.72197595e-02, -1.36617199e-02,\n",
       "          8.22455809e-03,  9.23106819e-03,  4.46573384e-02,\n",
       "         -4.51941490e-02],\n",
       "        [-4.07544523e-03,  3.08449604e-02,  3.35197523e-03,\n",
       "          1.63113512e-02, -1.72197595e-02, -1.36617199e-02,\n",
       "          8.22455809e-03,  9.23106819e-03,  4.46573384e-02,\n",
       "         -4.51941490e-02],\n",
       "        [-1.71579607e-02,  1.42115019e-02,  1.92670859e-02,\n",
       "         -4.41040993e-02,  2.87097953e-02,  4.69161905e-02,\n",
       "          9.17525217e-03, -5.88095188e-03, -4.96487692e-03,\n",
       "          3.60756405e-02],\n",
       "        [-4.45181727e-02,  4.90792505e-02,  3.64425816e-02,\n",
       "         -1.79591998e-02, -3.11202407e-02, -3.11002620e-02,\n",
       "         -9.58707184e-03, -2.81569362e-02, -1.32380947e-02,\n",
       "         -7.05646351e-03],\n",
       "        [ 2.81370617e-02, -3.21574360e-02, -7.71577284e-03,\n",
       "         -1.85157172e-02,  7.40858167e-03, -3.21181864e-03,\n",
       "         -2.87517067e-02, -3.83661501e-02, -5.49981743e-03,\n",
       "          3.10011618e-02],\n",
       "        [-3.33361626e-02,  3.43609937e-02,  1.15514509e-02,\n",
       "          4.72952053e-03,  4.36484851e-02, -4.48743105e-02,\n",
       "         -4.69582342e-02, -1.93299185e-02, -4.92210388e-02,\n",
       "          4.31516506e-02]],\n",
       "\n",
       "       [[-4.07544523e-03,  3.08449604e-02,  3.35197523e-03,\n",
       "          1.63113512e-02, -1.72197595e-02, -1.36617199e-02,\n",
       "          8.22455809e-03,  9.23106819e-03,  4.46573384e-02,\n",
       "         -4.51941490e-02],\n",
       "        [-4.07544523e-03,  3.08449604e-02,  3.35197523e-03,\n",
       "          1.63113512e-02, -1.72197595e-02, -1.36617199e-02,\n",
       "          8.22455809e-03,  9.23106819e-03,  4.46573384e-02,\n",
       "         -4.51941490e-02],\n",
       "        [-4.07544523e-03,  3.08449604e-02,  3.35197523e-03,\n",
       "          1.63113512e-02, -1.72197595e-02, -1.36617199e-02,\n",
       "          8.22455809e-03,  9.23106819e-03,  4.46573384e-02,\n",
       "         -4.51941490e-02],\n",
       "        [ 3.56417187e-02, -2.00381130e-03,  1.25370361e-02,\n",
       "         -8.30801576e-03,  1.06022358e-02, -4.81168739e-02,\n",
       "          2.87384912e-03,  1.86928995e-02,  1.95811130e-02,\n",
       "          4.43000235e-02],\n",
       "        [ 4.56713177e-02, -2.27741953e-02,  3.50279473e-02,\n",
       "         -2.23256946e-02, -4.25811894e-02,  3.60278748e-02,\n",
       "         -3.64937074e-02,  3.40558626e-02, -1.41162761e-02,\n",
       "          4.45181467e-02],\n",
       "        [ 2.06540935e-02,  2.15584673e-02, -4.17028181e-02,\n",
       "          2.32378505e-02, -1.32296085e-02, -4.02172916e-02,\n",
       "         -2.73296591e-02, -3.52100246e-02, -1.55347362e-02,\n",
       "         -3.07649374e-02],\n",
       "        [ 3.94926220e-03, -1.78427622e-03,  2.99131609e-02,\n",
       "          4.76270430e-02,  4.12526019e-02,  3.61674465e-02,\n",
       "          8.58692080e-03, -7.43556768e-04,  3.99369858e-02,\n",
       "         -1.42070763e-02],\n",
       "        [ 6.56170771e-03, -3.48711610e-02, -2.03340407e-02,\n",
       "         -3.20108905e-02, -4.17085513e-02, -5.10169193e-03,\n",
       "          8.30099732e-03,  1.89723112e-02,  1.15957484e-02,\n",
       "          4.95790578e-02]],\n",
       "\n",
       "       [[-4.07544523e-03,  3.08449604e-02,  3.35197523e-03,\n",
       "          1.63113512e-02, -1.72197595e-02, -1.36617199e-02,\n",
       "          8.22455809e-03,  9.23106819e-03,  4.46573384e-02,\n",
       "         -4.51941490e-02],\n",
       "        [-4.07544523e-03,  3.08449604e-02,  3.35197523e-03,\n",
       "          1.63113512e-02, -1.72197595e-02, -1.36617199e-02,\n",
       "          8.22455809e-03,  9.23106819e-03,  4.46573384e-02,\n",
       "         -4.51941490e-02],\n",
       "        [-4.07544523e-03,  3.08449604e-02,  3.35197523e-03,\n",
       "          1.63113512e-02, -1.72197595e-02, -1.36617199e-02,\n",
       "          8.22455809e-03,  9.23106819e-03,  4.46573384e-02,\n",
       "         -4.51941490e-02],\n",
       "        [ 3.56417187e-02, -2.00381130e-03,  1.25370361e-02,\n",
       "         -8.30801576e-03,  1.06022358e-02, -4.81168739e-02,\n",
       "          2.87384912e-03,  1.86928995e-02,  1.95811130e-02,\n",
       "          4.43000235e-02],\n",
       "        [ 4.56713177e-02, -2.27741953e-02,  3.50279473e-02,\n",
       "         -2.23256946e-02, -4.25811894e-02,  3.60278748e-02,\n",
       "         -3.64937074e-02,  3.40558626e-02, -1.41162761e-02,\n",
       "          4.45181467e-02],\n",
       "        [ 2.06540935e-02,  2.15584673e-02, -4.17028181e-02,\n",
       "          2.32378505e-02, -1.32296085e-02, -4.02172916e-02,\n",
       "         -2.73296591e-02, -3.52100246e-02, -1.55347362e-02,\n",
       "         -3.07649374e-02],\n",
       "        [ 3.94926220e-03, -1.78427622e-03,  2.99131609e-02,\n",
       "          4.76270430e-02,  4.12526019e-02,  3.61674465e-02,\n",
       "          8.58692080e-03, -7.43556768e-04,  3.99369858e-02,\n",
       "         -1.42070763e-02],\n",
       "        [ 3.08495499e-02,  2.77369097e-03,  1.79919861e-02,\n",
       "          3.94463055e-02,  1.75733007e-02, -2.63501536e-02,\n",
       "         -1.18082762e-02,  1.20797008e-03,  2.09733956e-02,\n",
       "         -2.87653692e-02]],\n",
       "\n",
       "       [[-4.07544523e-03,  3.08449604e-02,  3.35197523e-03,\n",
       "          1.63113512e-02, -1.72197595e-02, -1.36617199e-02,\n",
       "          8.22455809e-03,  9.23106819e-03,  4.46573384e-02,\n",
       "         -4.51941490e-02],\n",
       "        [-4.07544523e-03,  3.08449604e-02,  3.35197523e-03,\n",
       "          1.63113512e-02, -1.72197595e-02, -1.36617199e-02,\n",
       "          8.22455809e-03,  9.23106819e-03,  4.46573384e-02,\n",
       "         -4.51941490e-02],\n",
       "        [-4.07544523e-03,  3.08449604e-02,  3.35197523e-03,\n",
       "          1.63113512e-02, -1.72197595e-02, -1.36617199e-02,\n",
       "          8.22455809e-03,  9.23106819e-03,  4.46573384e-02,\n",
       "         -4.51941490e-02],\n",
       "        [-3.55845094e-02, -4.47348021e-02, -3.88839357e-02,\n",
       "          1.85174085e-02,  4.17821072e-02, -2.62050033e-02,\n",
       "         -1.25782713e-02,  3.22438739e-02,  3.05610038e-02,\n",
       "         -2.91435849e-02],\n",
       "        [-1.71579607e-02,  1.42115019e-02,  1.92670859e-02,\n",
       "         -4.41040993e-02,  2.87097953e-02,  4.69161905e-02,\n",
       "          9.17525217e-03, -5.88095188e-03, -4.96487692e-03,\n",
       "          3.60756405e-02],\n",
       "        [-1.30446665e-02, -2.50310432e-02, -2.43603587e-02,\n",
       "          1.09621175e-02,  1.19059309e-02, -6.10954687e-03,\n",
       "          4.94086631e-02,  4.91132028e-02, -6.71576709e-04,\n",
       "          1.01678371e-02],\n",
       "        [ 2.81370617e-02, -3.21574360e-02, -7.71577284e-03,\n",
       "         -1.85157172e-02,  7.40858167e-03, -3.21181864e-03,\n",
       "         -2.87517067e-02, -3.83661501e-02, -5.49981743e-03,\n",
       "          3.10011618e-02],\n",
       "        [-4.67579737e-02,  4.40000929e-02,  1.48523562e-02,\n",
       "          1.10859871e-02,  1.09641664e-02, -1.71447396e-02,\n",
       "          2.57182233e-02,  2.24844255e-02,  4.76714037e-02,\n",
       "         -2.01294776e-02]],\n",
       "\n",
       "       [[-4.07544523e-03,  3.08449604e-02,  3.35197523e-03,\n",
       "          1.63113512e-02, -1.72197595e-02, -1.36617199e-02,\n",
       "          8.22455809e-03,  9.23106819e-03,  4.46573384e-02,\n",
       "         -4.51941490e-02],\n",
       "        [-4.07544523e-03,  3.08449604e-02,  3.35197523e-03,\n",
       "          1.63113512e-02, -1.72197595e-02, -1.36617199e-02,\n",
       "          8.22455809e-03,  9.23106819e-03,  4.46573384e-02,\n",
       "         -4.51941490e-02],\n",
       "        [-4.07544523e-03,  3.08449604e-02,  3.35197523e-03,\n",
       "          1.63113512e-02, -1.72197595e-02, -1.36617199e-02,\n",
       "          8.22455809e-03,  9.23106819e-03,  4.46573384e-02,\n",
       "         -4.51941490e-02],\n",
       "        [-4.07544523e-03,  3.08449604e-02,  3.35197523e-03,\n",
       "          1.63113512e-02, -1.72197595e-02, -1.36617199e-02,\n",
       "          8.22455809e-03,  9.23106819e-03,  4.46573384e-02,\n",
       "         -4.51941490e-02],\n",
       "        [ 4.59594391e-02,  2.88455598e-02, -7.63975084e-04,\n",
       "         -3.86648402e-02, -2.19839346e-02, -1.29341595e-02,\n",
       "          1.62385404e-04, -2.65524741e-02, -4.54246998e-02,\n",
       "          7.55567476e-03],\n",
       "        [ 4.09024954e-03,  1.42909177e-02,  2.14702971e-02,\n",
       "          3.22977416e-02, -1.81542411e-02, -1.43459924e-02,\n",
       "         -1.82069652e-02, -1.94250941e-02, -1.28144734e-02,\n",
       "         -9.16341692e-03],\n",
       "        [ 1.53497718e-02, -4.21611220e-03,  2.51440145e-02,\n",
       "         -5.06527722e-05, -8.15694407e-03,  3.33351381e-02,\n",
       "         -3.81505862e-02,  3.12189795e-02,  2.83447169e-02,\n",
       "          4.73960303e-02],\n",
       "        [ 3.94926220e-03, -1.78427622e-03,  2.99131609e-02,\n",
       "          4.76270430e-02,  4.12526019e-02,  3.61674465e-02,\n",
       "          8.58692080e-03, -7.43556768e-04,  3.99369858e-02,\n",
       "         -1.42070763e-02]]], dtype=float32)"
      ]
     },
     "execution_count": 14,
     "metadata": {},
     "output_type": "execute_result"
    }
   ],
   "source": [
    "model.predict(embedded_docs)"
   ]
  },
  {
   "cell_type": "code",
   "execution_count": null,
   "metadata": {},
   "outputs": [],
   "source": []
  },
  {
   "cell_type": "code",
   "execution_count": null,
   "metadata": {},
   "outputs": [],
   "source": []
  },
  {
   "cell_type": "code",
   "execution_count": null,
   "metadata": {},
   "outputs": [],
   "source": []
  },
  {
   "cell_type": "code",
   "execution_count": null,
   "metadata": {},
   "outputs": [],
   "source": []
  },
  {
   "cell_type": "code",
   "execution_count": null,
   "metadata": {},
   "outputs": [],
   "source": []
  },
  {
   "cell_type": "code",
   "execution_count": null,
   "metadata": {},
   "outputs": [],
   "source": []
  },
  {
   "cell_type": "code",
   "execution_count": null,
   "metadata": {},
   "outputs": [],
   "source": []
  },
  {
   "cell_type": "code",
   "execution_count": null,
   "metadata": {},
   "outputs": [],
   "source": []
  }
 ],
 "metadata": {
  "kernelspec": {
   "display_name": "venv",
   "language": "python",
   "name": "python3"
  },
  "language_info": {
   "codemirror_mode": {
    "name": "ipython",
    "version": 3
   },
   "file_extension": ".py",
   "mimetype": "text/x-python",
   "name": "python",
   "nbconvert_exporter": "python",
   "pygments_lexer": "ipython3",
   "version": "3.12.7"
  }
 },
 "nbformat": 4,
 "nbformat_minor": 2
}
